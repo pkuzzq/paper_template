{
 "cells": [
  {
   "cell_type": "raw",
   "metadata": {},
   "source": [
    "---\n",
    "title: \"Quarto Exportable Jupyter\"\n",
    "author: \"Apoorva Lal\"\n",
    "date: \"Oct 10, 2021\"\n",
    "format:\n",
    "  html:\n",
    "    code-fold: true\n",
    "    code-background: true\n",
    "    code-overflow: wrap\n",
    "    code-tools: true\n",
    "    code-link: true\n",
    "    highlight-style: arrow\n",
    "    toc: true\n",
    "    max-width: 1600px\n",
    "    mainfont: IBM Plex Sans\n",
    "    monofont: Iosevka\n",
    "    number-sections: true\n",
    "    colorlinks: true\n",
    "    theme:\n",
    "      - cyborg\n",
    "jupyter: ir\n",
    "---"
   ]
  },
  {
   "cell_type": "markdown",
   "metadata": {},
   "source": [
    "$\\DeclareMathOperator*{\\argmin}{argmin}$\n",
    "$\\newcommand{\\defeq}{:=}$\n",
    "$\\newcommand{\\var}{\\mathrm{Var}}$\n",
    "$\\newcommand{\\epsi}{\\varepsilon}$\n",
    "$\\newcommand{\\phii}{\\varphi}$\n",
    "$\\newcommand{\\E}{\\mathbb{E}}$\n",
    "$\\newcommand\\Bigpar[1]{\\left( #1 \\right )}$\n",
    "$\\newcommand\\Bigbr[1]{\\left[ #1 \\right ]}$\n",
    "$\\newcommand\\Bigcr[1]{\\left\\{ #1 \\right \\}}$\n",
    "$\\newcommand\\SetB[1]{\\left\\{ #1 \\right\\}}$\n",
    "$\\newcommand\\Sett[1]{\\mathcal{#1}}$\n",
    "$\\newcommand{\\Data}{\\mathcal{D}}$\n",
    "$\\newcommand{\\Ubr}[2]{\\underbrace{#1}_{\\text{#2}}}$\n",
    "$\\newcommand{\\Obr}[2]{ \\overbrace{#1}^{\\text{#2}}}$\n",
    "$\\newcommand{\\sumiN}{\\sum_{i=1}^N}$\n",
    "$\\newcommand{\\dydx}[2]{\\frac{\\partial #1}{\\partial #2}}$\n",
    "$\\newcommand\\Indic[1]{\\mathds{1}_{#1}}$\n",
    "$\\newcommand{\\Realm}[1]{\\mathbb{R}^{#1}}$\n",
    "$\\newcommand{\\Exp}[1]{\\mathbb{E}\\left[#1\\right]}$\n",
    "$\\newcommand{\\Expt}[2]{\\mathbb{E}_{#1}\\left[#2\\right]}$\n",
    "$\\newcommand{\\Var}[1]{\\mathbb{V}\\left[#1\\right]}$\n",
    "$\\newcommand{\\Covar}[1]{\\text{Cov}\\left[#1\\right]}$\n",
    "$\\newcommand{\\Prob}[1]{\\mathbf{Pr}\\left(#1\\right)}$\n",
    "$\\newcommand{\\Supp}[1]{\\text{Supp}\\left[#1\\right]}$\n",
    "$\\newcommand{\\doyx}{\\Prob{Y \\, |\\,\\mathsf{do} (X = x)}}$\n",
    "$\\newcommand{\\doo}[1]{\\Prob{Y |\\,\\mathsf{do} (#1) }}$\n",
    "$\\newcommand{\\R}{\\mathbb{R}}$\n",
    "$\\newcommand{\\Z}{\\mathbb{Z}}$\n",
    "$\\newcommand{\\wh}[1]{\\widehat{#1}} % Wide hat$\n",
    "$\\newcommand{\\wt}[1]{\\widetilde{#1}} % Wide tilde$\n",
    "$\\newcommand{\\wb}[1]{\\overline{#1}} % Wide bar$\n",
    "$\\newcommand\\Ol[1]{\\overline{#1}}$\n",
    "$\\newcommand\\Ul[1]{\\underline{#1}}$\n",
    "$\\newcommand\\Str[1]{#1^{*}}$\n",
    "$\\newcommand{\\F}{\\mathsf{F}}$\n",
    "$\\newcommand{\\ff}{\\mathsf{f}}$\n",
    "$\\newcommand{\\Cdf}[1]{\\mathbb{F}\\left(#1\\right)}$\n",
    "$\\newcommand{\\Cdff}[2]{\\mathbb{F}_{#1}\\left(#2\\right)}$\n",
    "$\\newcommand{\\Pdf}[1]{\\mathsf{f}\\left(#1\\right)}$\n",
    "$\\newcommand{\\Pdff}[2]{\\mathsf{f}_{#1}\\left(#2\\right)}$\n",
    "$\\newcommand{\\dd}{\\mathsf{d}}$\n",
    "$\\newcommand\\Normal[1]{\\mathcal{N} \\left( #1 \\right )}$\n",
    "$\\newcommand\\Unif[1]{\\mathsf{U} \\left[ #1 \\right ]}$\n",
    "$\\newcommand\\Bern[1]{\\mathsf{Bernoulli} \\left( #1 \\right )}$\n",
    "$\\newcommand\\Binom[1]{\\mathsf{Bin} \\left( #1 \\right )}$\n",
    "$\\newcommand\\Pois[1]{\\mathsf{Poi} \\left( #1 \\right )}$\n",
    "$\\newcommand\\BetaD[1]{\\mathsf{Beta} \\left( #1 \\right )}$\n",
    "$\\newcommand\\Diri[1]{\\mathsf{Dir} \\left( #1 \\right )}$\n",
    "$\\newcommand\\Gdist[1]{\\mathsf{Gamma} \\left( #1 \\right )}$\n",
    "$\\def\\mbf#1{\\mathbf{#1}}$\n",
    "$\\def\\mrm#1{\\mathrm{#1}}$\n",
    "$\\def\\mbi#1{\\boldsymbol{#1}}$\n",
    "$\\def\\ve#1{\\mbi{#1}} % Vector notation$\n",
    "$\\def\\vee#1{\\mathbf{#1}} % Vector notation$\n",
    "$\\newcommand{\\Mat}[1]{\\mathbf{#1}}$\n",
    "$\\newcommand{\\eucN}[1]{\\norm{#1}}$\n",
    "$\\newcommand{\\iprod}[1]{\\left\\langle {#1} \\right\\rangle}$\n",
    "$\\newcommand{\\norm}[1]{\\left\\Vert{#1} \\right\\Vert}$\n",
    "$\\newcommand{\\trace}[1]{\\text{tr} \\left({#1} \\right)}$\n",
    "$\\newcommand{\\abs}[1]{\\left\\vert {#1} \\right\\vert}$\n",
    "$\\renewcommand{\\det}{\\mathrm{det}}$\n",
    "$\\newcommand{\\rank}{\\mathrm{rank}}$\n",
    "$\\newcommand{\\trc}{\\mathrm{trace}}$\n",
    "$\\newcommand{\\spn}{\\mathrm{span}}$\n",
    "$\\newcommand{\\row}{\\mathrm{Row}}$\n",
    "$\\newcommand{\\col}{\\mathrm{Col}}$\n",
    "$\\renewcommand{\\dim}{\\mathrm{dim}}$\n",
    "$\\newcommand{\\lzero}[1]{\\norm{#1}_0}$\n",
    "$\\newcommand{\\lone}[1]{\\norm{#1}_1}$\n",
    "$\\newcommand{\\ltwo}[1]{\\norm{#1}_2}$\n",
    "$\\newcommand{\\pnorm}[1]{\\norm{#1}_p}$\n"
   ]
  },
  {
   "cell_type": "code",
   "execution_count": 1,
   "metadata": {},
   "outputs": [
    {
     "name": "stdout",
     "output_type": "stream",
     "text": [
      "      wants          loaded\n",
      " [1,] \"data.table\"   TRUE  \n",
      " [2,] \"magrittr\"     TRUE  \n",
      " [3,] \"tidyverse\"    TRUE  \n",
      " [4,] \"janitor\"      TRUE  \n",
      " [5,] \"modelsummary\" TRUE  \n",
      " [6,] \"patchwork\"    TRUE  \n",
      " [7,] \"knitr\"        TRUE  \n",
      " [8,] \"IRdisplay\"    TRUE  \n",
      " [9,] \"fixest\"       TRUE  \n"
     ]
    }
   ],
   "source": [
    "rm(list = ls())\n",
    "library(LalRUtils)\n",
    "libreq(data.table, magrittr, janitor, patchwork, knitr, fixest)\n",
    "theme_set(lal_plot_theme()) # add _d() for dark\n",
    "set.seed(42)\n",
    "# rprofile stuff"
   ]
  },
  {
   "cell_type": "markdown",
   "metadata": {},
   "source": [
    "$$\n",
    "\\Exp{Y | X} = \\ve{X}_i ' \\ve{\\beta} + \\epsi_i\n",
    "$$"
   ]
  },
  {
   "cell_type": "code",
   "execution_count": null,
   "metadata": {},
   "outputs": [],
   "source": []
  }
 ],
 "metadata": {
  "kernelspec": {
   "display_name": "R",
   "language": "R",
   "name": "ir"
  },
  "language_info": {
   "codemirror_mode": "r",
   "file_extension": ".r",
   "mimetype": "text/x-r-source",
   "name": "R",
   "pygments_lexer": "r",
   "version": "4.2.0"
  }
 },
 "nbformat": 4,
 "nbformat_minor": 4
}
